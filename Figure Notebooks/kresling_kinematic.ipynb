{
 "cells": [
  {
   "cell_type": "code",
   "execution_count": 1,
   "id": "a2c74b4e",
   "metadata": {},
   "outputs": [],
   "source": [
    "#This jupyter notebook needs sympy: https://docs.sympy.org/latest/index.html\n",
    "import sympy\n",
    "import numpy as np\n",
    "import matplotlib.pyplot as plt\n",
    "import csv"
   ]
  },
  {
   "cell_type": "code",
   "execution_count": 2,
   "id": "f99a7c52",
   "metadata": {
    "scrolled": true
   },
   "outputs": [],
   "source": [
    "#Design variables (Kresling was printed with these all in mm)\n",
    "N = 6 #Number of Kresling edges\n",
    "L_c = 10 #Contracted length\n",
    "R = 30 #Polygon radius\n",
    "phi = np.pi/N #Inner angle on top face\n",
    "lambda_val = 0.75 #Angle ratio\n",
    "\n",
    "#Solved  variables\n",
    "gamma = np.pi/2 - phi \n",
    "alpha_c = 2 * gamma * lambda_val #Compressed rotation\n",
    "alpha_e = 2 * gamma * (1 - lambda_val) #Extended rotation\n",
    "L_e_num = sympy.sqrt(L_c ** 2 + 2 * R ** 2 *(sympy.cos(alpha_e + 2 * phi) - sympy.cos(alpha_c + 2 * phi))) #Extended length\n",
    "\n",
    "L_e_array = np.arange(float(L_e_num)-14, float(L_e_num), 0.2)\n",
    "\n",
    "#The Kresling length L_e is the variable to be solved for\n",
    "L_e = sympy.symbols('L_e')\n",
    "alpha_pi = sympy.acos((L_e ** 2 - L_c ** 2)/(2 * R ** 2) + sympy.cos(alpha_c + 2 * phi)) - 2 * phi\n",
    "\n",
    "#Four points define the upper and lower set of Kresling faces \n",
    "P0L = sympy.Matrix([R * sympy.cos(0), R * sympy.sin(0), 0])\n",
    "P1L = sympy.Matrix([R * sympy.cos(2 * phi), R * sympy.sin(2 * phi), 0])\n",
    "P0U = sympy.Matrix([R * sympy.cos(-alpha_pi), R * sympy.sin(-alpha_pi), L_e])\n",
    "P1U = sympy.Matrix([R * sympy.cos(2 * phi - alpha_pi), R * sympy.sin(2 * phi - alpha_pi), L_e])\n",
    "\n",
    "#Solve for vector normal to lower and upper faces\n",
    "#Two vectors that define the lower face, from distance between points\n",
    "lower_vec0 = P0U - P1L\n",
    "lower_vec1 = P0U - P0L\n",
    "\n",
    "#Two vectors that define the lower face, from distance between points\n",
    "upper_vec1 = P0U - P1U\n",
    "#The second vector is lower_vec0\n",
    "\n",
    "#Find cross product to find normal vector\n",
    "normal_lower = lower_vec0.col(0).cross(lower_vec1)\n",
    "normal_upper = lower_vec0.col(0).cross(upper_vec1)\n",
    "\n",
    "vec_dot_prod = normal_lower.col(0).dot(normal_upper)\n",
    "norm_lower = normal_lower.col(0).norm()\n",
    "norm_upper = normal_upper.col(0).norm()\n",
    "\n",
    "cos_fold_angle = vec_dot_prod / (norm_lower * norm_upper)\n",
    "\n",
    "fold_angle = sympy.acos(cos_fold_angle)\n",
    "\n",
    "fold_angle_rad = []\n",
    "\n",
    "for lengths in L_e_array:\n",
    "    fold_angle_rad.append(float(fold_angle.subs(L_e, lengths)))\n",
    "\n",
    "fold_angle_deg = np.array(fold_angle_rad)*180/3.14"
   ]
  },
  {
   "cell_type": "code",
   "execution_count": 3,
   "id": "c0384f40",
   "metadata": {},
   "outputs": [
    {
     "name": "stdout",
     "output_type": "stream",
     "text": [
      "RMSE for kinematic model fit is 0.03 mm\n",
      "Slope of the fit is 0.22 mm/deg and offset is 10.39 mm\n"
     ]
    }
   ],
   "source": [
    "#Find polynomial fit from angle xi in degrees to length in mm\n",
    "poly_fold_fit = np.polynomial.polynomial.polyfit(fold_angle_deg, np.array(L_e_array), 1)\n",
    "fold_fit_lin = np.polynomial.polynomial.polyval(fold_angle_deg, poly_fold_fit)\n",
    "\n",
    "rmse_len = np.sqrt(np.mean((L_e_array - fold_fit_lin)**2))\n",
    "print(\"RMSE for kinematic model fit is \" + str(round(rmse_len,2)) + \" mm\")\n",
    "print(\"Slope of the fit is \" + str(round(poly_fold_fit[1],2)) + \" mm/deg and offset is \" + str(round(poly_fold_fit[0],2)) + \" mm\")"
   ]
  },
  {
   "cell_type": "code",
   "execution_count": 5,
   "id": "ed1067e9",
   "metadata": {},
   "outputs": [
    {
     "data": {
      "image/png": "[encoded data removed]",
      "text/plain": [
       "<Figure size 350x200 with 1 Axes>"
      ]
     },
     "metadata": {},
     "output_type": "display_data"
    }
   ],
   "source": [
    "plt.figure(figsize=(3.5,2),facecolor=(1, 1, 1),tight_layout=True)\n",
    "output_figure_name = 'kinematic_model_fit.png'\n",
    "\n",
    "colors = ['b', 'k', 'g', 'c']\n",
    "\n",
    "plt.plot(fold_angle_deg,fold_fit_lin, colors[0]+'.', linewidth=2)\n",
    "plt.plot(fold_angle_deg, L_e_array, colors[1]+'+')\n",
    "\n",
    "SMALL_SIZE = 8\n",
    "MEDIUM_SIZE = 9\n",
    "BIGGER_SIZE = 9\n",
    "\n",
    "plt.rc('font', size=SMALL_SIZE)          # controls default text sizes\n",
    "plt.rc('axes', titlesize=MEDIUM_SIZE)     # fontsize of the axes title\n",
    "plt.rc('axes', labelsize=SMALL_SIZE)    # fontsize of the x and y labels\n",
    "plt.rc('xtick', labelsize=SMALL_SIZE)    # fontsize of the tick labels\n",
    "plt.rc('ytick', labelsize=SMALL_SIZE)    # fontsize of the tick labels\n",
    "plt.rc('legend', fontsize=SMALL_SIZE)    # legend fontsize\n",
    "plt.rc('figure', titlesize=MEDIUM_SIZE)  # fontsize of the figure title\n",
    "plt.legend(['Lin fit', 'Kinematic'])\n",
    "plt.grid('True')\n",
    "\n",
    "plt.xlabel('Angle ξ (degree)')\n",
    "plt.ylabel('Contraction (mm)')\n",
    "\n",
    "\n",
    "plt.rcParams['font.sans-serif'] = ['Helvetica', 'DejaVu Sans',\n",
    "                               'Lucida Grande', 'Verdana']\n",
    "\n",
    "plt.savefig(output_figure_name, dpi=300.0, format='png', metadata=None,\n",
    "        bbox_inches=None, \n",
    "        facecolor='auto', edgecolor='auto', transparent=False,\n",
    "        backend=None)\n",
    "\n",
    "\n",
    "plt.show()"
   ]
  },
  {
   "cell_type": "code",
   "execution_count": 6,
   "id": "8cda0990",
   "metadata": {},
   "outputs": [
    {
     "name": "stdout",
     "output_type": "stream",
     "text": [
      "Optitrack to kinematic RMSE is: 1.51 degrees\n"
     ]
    }
   ],
   "source": [
    "#Demonstrate fit between alpha angle rotation and measured rotation in optitrack\n",
    "disp_rot = []\n",
    "disp = []\n",
    "\n",
    "with open(\"optitrack.csv\") as readfile:\n",
    "    reader = csv.reader(readfile, delimiter=',')\n",
    "    for i in range(6):\n",
    "        next(reader)\n",
    "    for line in readfile:\n",
    "        values = line.split(',')\n",
    "        disp_rot.append(float(values[3]))\n",
    "        disp.append(float(values[6]))\n",
    "\n",
    "index = np.argmax(disp)\n",
    "disp_zero = np.array(disp) - max(disp) #zero displacement\n",
    "disp_rot = np.array(disp_rot) \n",
    "\n",
    "model_rot = (np.arccos(((disp_zero + 41)** 2 - L_c ** 2) / (2 * R ** 2) + np.cos(alpha_c + 2 * phi)) - 2 * phi) * 180/np.pi\n",
    "model_rot_min = (np.arccos(((disp_zero[index] + 41)** 2 - L_c ** 2) / (2 * R ** 2) + np.cos(alpha_c + 2 * phi)) - 2 * phi) * 180/np.pi\n",
    "\n",
    "#calculate RMSE from zeroed rotation values\n",
    "rmse_deg = np.sqrt(np.mean((-1*(model_rot-model_rot_min)-(disp_rot-disp_rot[index]))**2))\n",
    "print(\"Optitrack to kinematic RMSE is: \" + str(round(rmse_deg,2)) + \" degrees\")"
   ]
  },
  {
   "cell_type": "code",
   "execution_count": 7,
   "id": "ab15a335",
   "metadata": {},
   "outputs": [
    {
     "data": {
      "image/png": "[encoded data removed]",
      "text/plain": [
       "<Figure size 350x200 with 1 Axes>"
      ]
     },
     "metadata": {},
     "output_type": "display_data"
    }
   ],
   "source": [
    "#Plot optitrack measurements and length prediction for open loop control\n",
    "\n",
    "plt.figure(figsize=(3.5,2),facecolor=(1, 1, 1),tight_layout=True)\n",
    "output_figure_name = 'alpha_match.png'\n",
    "\n",
    "plt.plot(-1 * disp_zero, disp_rot - disp_rot[index], colors[0]+'.')\n",
    "plt.plot(-1 * disp_zero, -1*(model_rot - model_rot_min), colors[1], linewidth=2)\n",
    "\n",
    "\n",
    "SMALL_SIZE = 8\n",
    "MEDIUM_SIZE = 9\n",
    "BIGGER_SIZE = 9\n",
    "\n",
    "plt.rc('font', size=SMALL_SIZE)          # controls default text sizes\n",
    "plt.rc('axes', titlesize=MEDIUM_SIZE)     # fontsize of the axes title\n",
    "plt.rc('axes', labelsize=SMALL_SIZE)    # fontsize of the x and y labels\n",
    "plt.rc('xtick', labelsize=SMALL_SIZE)    # fontsize of the tick labels\n",
    "plt.rc('ytick', labelsize=SMALL_SIZE)    # fontsize of the tick labels\n",
    "plt.rc('legend', fontsize=SMALL_SIZE)    # legend fontsize\n",
    "plt.rc('figure', titlesize=MEDIUM_SIZE)  # fontsize of the figure title\n",
    "plt.legend(['Measured', 'Kinematic'])\n",
    "\n",
    "plt.xlabel('Contraction (mm)')\n",
    "plt.ylabel('Δ rotation α (degree)')\n",
    "plt.grid('True')\n",
    "\n",
    "plt.rcParams['font.sans-serif'] = ['Helvetica', 'DejaVu Sans',\n",
    "                               'Lucida Grande', 'Verdana']\n",
    "\n",
    "plt.savefig(output_figure_name, dpi=300.0, format='png', metadata=None,\n",
    "        bbox_inches=None, \n",
    "        facecolor='auto', edgecolor='auto', transparent=False,\n",
    "        backend=None)\n",
    "\n",
    "plt.show()"
   ]
  },
  {
   "cell_type": "code",
   "execution_count": null,
   "id": "c43d5ebb",
   "metadata": {},
   "outputs": [],
   "source": []
  }
 ],
 "metadata": {
  "kernelspec": {
   "display_name": "Python 3 (ipykernel)",
   "language": "python",
   "name": "python3"
  },
  "language_info": {
   "codemirror_mode": {
    "name": "ipython",
    "version": 3
   },
   "file_extension": ".py",
   "mimetype": "text/x-python",
   "name": "python",
   "nbconvert_exporter": "python",
   "pygments_lexer": "ipython3",
   "version": "3.10.9"
  }
 },
 "nbformat": 4,
 "nbformat_minor": 5
}
