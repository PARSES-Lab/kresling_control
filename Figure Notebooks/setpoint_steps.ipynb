{
 "cells": [
  {
   "cell_type": "code",
   "execution_count": 1,
   "id": "ba02d957",
   "metadata": {},
   "outputs": [],
   "source": [
    "#This script imports the optimized electrode displacement sweep and analyzes \n",
    "#its response against open loop data with capacitance measurement and optitrack\n",
    "\n",
    "import csv\n",
    "import matplotlib.pyplot as plt\n",
    "import numpy as np\n",
    "import math\n",
    "import scipy\n",
    "import bagpy\n",
    "from tqdm.notebook import tqdm"
   ]
  },
  {
   "cell_type": "code",
   "execution_count": 2,
   "id": "92e6b917",
   "metadata": {},
   "outputs": [],
   "source": [
    "opti_column = 7 #column in optitrack for displacement axis\n",
    "\n",
    "optitrack_file = 'CL_3/PWM_discrete_kp005_kd001_step_33_37_35_23.csv'\n",
    "extension = [33, 37, 35, 29]"
   ]
  },
  {
   "cell_type": "code",
   "execution_count": 3,
   "id": "5981673b",
   "metadata": {},
   "outputs": [],
   "source": [
    "def read_opti_data(optitrack_file):\n",
    "    opti_data = np.array([[0,0]])\n",
    "\n",
    "    with open(optitrack_file) as readfile:\n",
    "        reader = csv.reader(readfile, delimiter=',')\n",
    "        for i in range(opti_column + 1):\n",
    "            next(reader)\n",
    "        for line in tqdm(readfile):\n",
    "            values = line.strip().split(',')\n",
    "            if values[opti_column] == '':\n",
    "                continue\n",
    "            time_opti= float(values[1])\n",
    "            disp_opti = float(values[opti_column]) * 1e3 #convert to mm\n",
    "            opti_data = np.append(opti_data,[[time_opti, disp_opti]], axis = 0)\n",
    "\n",
    "    #Zero array\n",
    "    opti_data = opti_data[1:,:] - opti_data[1,:]\n",
    "    opti_data[:,1] = -1*opti_data[:,1] #Flip to contraction\n",
    "\n",
    "    start_index = np.argmax(np.diff(opti_data[:120*20,1])) #Test starts with biggest difference between 0 and 20 seconds\n",
    "\n",
    "    opti_data[:,0] = opti_data[:,0] - opti_data[start_index,0] #re-zero time to start of test\n",
    "    return opti_data"
   ]
  },
  {
   "cell_type": "code",
   "execution_count": 5,
   "id": "4b7e83be",
   "metadata": {},
   "outputs": [
    {
     "data": {
      "application/vnd.jupyter.widget-view+json": {
       "model_id": "3b3e732c826b4c3bb028b989ec727582",
       "version_major": 2,
       "version_minor": 0
      },
      "text/plain": [
       "0it [00:00, ?it/s]"
      ]
     },
     "metadata": {},
     "output_type": "display_data"
    },
    {
     "data": {
      "image/png": "[encoded data removed]",
      "text/plain": [
       "<Figure size 325x200 with 1 Axes>"
      ]
     },
     "metadata": {},
     "output_type": "display_data"
    }
   ],
   "source": [
    "opti_data = read_opti_data(optitrack_file)\n",
    "\n",
    "plt.figure(figsize=(3.25,2),facecolor=(1, 1, 1),tight_layout=True)\n",
    "\n",
    "plt.plot(opti_data[:,0], opti_data[:,1], 'b.', markersize = 2, alpha = 1)\n",
    "\n",
    "plt.rcParams['font.sans-serif'] = ['Helvetica', 'DejaVu Sans',\n",
    "                               'Lucida Grande', 'Verdana']\n",
    "\n",
    "write_name = 'multi_steps_33_37_35_29.png'\n",
    "\n",
    "plt.xlabel('Time (s)', fontsize=10)\n",
    "plt.ylabel('Contraction (mm)', fontsize=10)\n",
    "plt.xticks(fontsize=10)\n",
    "plt.yticks(fontsize=10)\n",
    "\n",
    "plt.xlim([0, 120])\n",
    "\n",
    "plt.grid('True')\n",
    "    \n",
    "plt.savefig(fname=write_name, dpi=600, format=None, metadata=None,\n",
    "        bbox_inches=None, pad_inches=0.1,\n",
    "        facecolor='auto', edgecolor='auto',\n",
    "        backend=None, \n",
    "       )\n",
    "\n",
    "plt.show()"
   ]
  },
  {
   "cell_type": "code",
   "execution_count": null,
   "id": "2dbd6597",
   "metadata": {},
   "outputs": [],
   "source": []
  }
 ],
 "metadata": {
  "kernelspec": {
   "display_name": "Python 3 (ipykernel)",
   "language": "python",
   "name": "python3"
  },
  "language_info": {
   "codemirror_mode": {
    "name": "ipython",
    "version": 3
   },
   "file_extension": ".py",
   "mimetype": "text/x-python",
   "name": "python",
   "nbconvert_exporter": "python",
   "pygments_lexer": "ipython3",
   "version": "3.10.9"
  }
 },
 "nbformat": 4,
 "nbformat_minor": 5
}
